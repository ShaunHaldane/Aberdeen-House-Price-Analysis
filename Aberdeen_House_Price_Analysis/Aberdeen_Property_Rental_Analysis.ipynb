{
 "cells": [
  {
   "cell_type": "markdown",
   "metadata": {},
   "source": [
    "# Analysing Property Prices in Aberdeen Scotland.\n",
    "\n",
    "\n",
    "\n",
    "## Introduction\n",
    "\n",
    "House price prediction models are usually based on the size of the property in sqft or m^2 but rarely on the quality of the postal area in which the property is situated. The aim of this project is to predict how much a tennant is likely to pay or how much a landlord could charge to rent a property in a given postal area based on area class and number of bedrooms.\n",
    "\n",
    "The data was scraped from https://www.rightmove.co.uk/property-to-rent/Aberdeen.html using the Beautifulsoup module, cleaned, analysed, saved in a csv file and used to predict rental price using a linear regression algorithm. "
   ]
  },
  {
   "cell_type": "markdown",
   "metadata": {},
   "source": [
    "## Methodology and Analysis\n",
    "\n",
    "### Step 1: Scraping the Data.\n"
   ]
  },
  {
   "cell_type": "code",
   "execution_count": 234,
   "metadata": {},
   "outputs": [],
   "source": [
    "from bs4 import BeautifulSoup\n",
    "from urllib.request import urlopen as uReq\n",
    "import pandas as pd\n",
    "from matplotlib import pyplot as plt\n",
    "%matplotlib inline\n",
    "import numpy as np"
   ]
  },
  {
   "cell_type": "markdown",
   "metadata": {},
   "source": [
    "Each webpage was loaded into the notebook as html text as shown below.   "
   ]
  },
  {
   "cell_type": "code",
   "execution_count": 127,
   "metadata": {},
   "outputs": [],
   "source": [
    "# Create variables to store data from each page of rightmove.co.uk API with Aberdeen properties to rent\n",
    "\n",
    "my_url1 = 'https://www.rightmove.co.uk/property-to-rent/Aberdeen.html' \n",
    "my_url2 = 'https://www.rightmove.co.uk/property-to-rent/Aberdeen.html?locationIdentifier=REGION%5E4&index=24&propertyTypes=&mustHave=&dontShow=&furnishTypes=&keywords='\n",
    "my_url3 = 'https://www.rightmove.co.uk/property-to-rent/find.html?locationIdentifier=REGION%5E4&index=48&propertyTypes=&mustHave=&dontShow=&furnishTypes=&keywords='\n",
    "my_url4 = 'https://www.rightmove.co.uk/property-to-rent/find.html?locationIdentifier=REGION%5E4&index=72&propertyTypes=&mustHave=&dontShow=&furnishTypes=&keywords='\n",
    "my_url5 = 'https://www.rightmove.co.uk/property-to-rent/find.html?locationIdentifier=REGION%5E4&index=96&propertyTypes=&mustHave=&dontShow=&furnishTypes=&keywords='\n",
    "my_url6 = 'https://www.rightmove.co.uk/property-to-rent/find.html?locationIdentifier=REGION%5E4&index=120&propertyTypes=&mustHave=&dontShow=&furnishTypes=&keywords='\n",
    "my_url7 = 'https://www.rightmove.co.uk/property-to-rent/find.html?locationIdentifier=REGION%5E4&index=144&propertyTypes=&mustHave=&dontShow=&furnishTypes=&keywords='\n",
    "my_url8 = 'https://www.rightmove.co.uk/property-to-rent/find.html?locationIdentifier=REGION%5E4&index=168&propertyTypes=&mustHave=&dontShow=&furnishTypes=&keywords='\n",
    "my_url9 = 'https://www.rightmove.co.uk/property-to-rent/find.html?locationIdentifier=REGION%5E4&index=192&propertyTypes=&mustHave=&dontShow=&furnishTypes=&keywords='\n",
    "my_url10 = 'https://www.rightmove.co.uk/property-to-rent/find.html?locationIdentifier=REGION%5E4&index=216&propertyTypes=&mustHave=&dontShow=&furnishTypes=&keywords='\n",
    "my_url11 = 'https://www.rightmove.co.uk/property-to-rent/find.html?locationIdentifier=REGION%5E4&index=240&propertyTypes=&mustHave=&dontShow=&furnishTypes=&keywords='\n",
    "my_url12 = 'https://www.rightmove.co.uk/property-to-rent/find.html?locationIdentifier=REGION%5E4&index=264&propertyTypes=&mustHave=&dontShow=&furnishTypes=&keywords='\n",
    "my_url13 = 'https://www.rightmove.co.uk/property-to-rent/find.html?locationIdentifier=REGION%5E4&index=288&propertyTypes=&mustHave=&dontShow=&furnishTypes=&keywords='\n",
    "my_url14 = 'https://www.rightmove.co.uk/property-to-rent/find.html?locationIdentifier=REGION%5E4&index=312&propertyTypes=&mustHave=&dontShow=&furnishTypes=&keywords='\n",
    "my_url15 = 'https://www.rightmove.co.uk/property-to-rent/find.html?locationIdentifier=REGION%5E4&index=336&propertyTypes=&mustHave=&dontShow=&furnishTypes=&keywords='\n",
    "my_url16 = 'https://www.rightmove.co.uk/property-to-rent/find.html?locationIdentifier=REGION%5E4&index=360&propertyTypes=&mustHave=&dontShow=&furnishTypes=&keywords='\n",
    "my_url17 = 'https://www.rightmove.co.uk/property-to-rent/find.html?locationIdentifier=REGION%5E4&index=384&propertyTypes=&mustHave=&dontShow=&furnishTypes=&keywords='\n",
    "my_url18 = 'https://www.rightmove.co.uk/property-to-rent/find.html?locationIdentifier=REGION%5E4&index=408&propertyTypes=&mustHave=&dontShow=&furnishTypes=&keywords='\n",
    "my_url19 = 'https://www.rightmove.co.uk/property-to-rent/find.html?locationIdentifier=REGION%5E4&index=432&propertyTypes=&mustHave=&dontShow=&furnishTypes=&keywords='\n",
    "my_url20 = 'https://www.rightmove.co.uk/property-to-rent/find.html?locationIdentifier=REGION%5E4&index=456&propertyTypes=&mustHave=&dontShow=&furnishTypes=&keywords='\n",
    "my_url21 = 'https://www.rightmove.co.uk/property-to-rent/find.html?locationIdentifier=REGION%5E4&index=480&propertyTypes=&mustHave=&dontShow=&furnishTypes=&keywords='\n",
    "my_url22 = 'https://www.rightmove.co.uk/property-to-rent/find.html?locationIdentifier=REGION%5E4&index=504&propertyTypes=&mustHave=&dontShow=&furnishTypes=&keywords='\n",
    "my_url23 = 'https://www.rightmove.co.uk/property-to-rent/find.html?locationIdentifier=REGION%5E4&index=528&propertyTypes=&mustHave=&dontShow=&furnishTypes=&keywords='\n",
    "my_url24 = 'https://www.rightmove.co.uk/property-to-rent/find.html?locationIdentifier=REGION%5E4&index=552&propertyTypes=&mustHave=&dontShow=&furnishTypes=&keywords='\n",
    "my_url25 = 'https://www.rightmove.co.uk/property-to-rent/find.html?locationIdentifier=REGION%5E4&index=576&propertyTypes=&mustHave=&dontShow=&furnishTypes=&keywords='\n",
    "my_url26 = 'https://www.rightmove.co.uk/property-to-rent/find.html?locationIdentifier=REGION%5E4&index=600&propertyTypes=&mustHave=&dontShow=&furnishTypes=&keywords='\n",
    "my_url27 = 'https://www.rightmove.co.uk/property-to-rent/find.html?locationIdentifier=REGION%5E4&index=624&propertyTypes=&mustHave=&dontShow=&furnishTypes=&keywords='\n",
    "my_url28 = 'https://www.rightmove.co.uk/property-to-rent/find.html?locationIdentifier=REGION%5E4&index=648&propertyTypes=&mustHave=&dontShow=&furnishTypes=&keywords='\n",
    "my_url29 = 'https://www.rightmove.co.uk/property-to-rent/find.html?locationIdentifier=REGION%5E4&index=672&propertyTypes=&mustHave=&dontShow=&furnishTypes=&keywords='\n",
    "my_url30 = 'https://www.rightmove.co.uk/property-to-rent/find.html?locationIdentifier=REGION%5E4&index=696&propertyTypes=&mustHave=&dontShow=&furnishTypes=&keywords='\n",
    "my_url31 = 'https://www.rightmove.co.uk/property-to-rent/find.html?locationIdentifier=REGION%5E4&index=720&propertyTypes=&mustHave=&dontShow=&furnishTypes=&keywords='\n",
    "my_url32 = 'https://www.rightmove.co.uk/property-to-rent/find.html?locationIdentifier=REGION%5E4&index=744&propertyTypes=&mustHave=&dontShow=&furnishTypes=&keywords='\n",
    "my_url33 = 'https://www.rightmove.co.uk/property-to-rent/find.html?locationIdentifier=REGION%5E4&index=768&propertyTypes=&mustHave=&dontShow=&furnishTypes=&keywords='\n",
    "my_url34 = 'https://www.rightmove.co.uk/property-to-rent/find.html?locationIdentifier=REGION%5E4&index=792&propertyTypes=&mustHave=&dontShow=&furnishTypes=&keywords='\n",
    "my_url35 = 'https://www.rightmove.co.uk/property-to-rent/find.html?locationIdentifier=REGION%5E4&index=816&propertyTypes=&mustHave=&dontShow=&furnishTypes=&keywords='\n",
    "my_url36 = 'https://www.rightmove.co.uk/property-to-rent/find.html?locationIdentifier=REGION%5E4&index=840&propertyTypes=&mustHave=&dontShow=&furnishTypes=&keywords='\n",
    "my_url37 = 'https://www.rightmove.co.uk/property-to-rent/find.html?locationIdentifier=REGION%5E4&index=864&propertyTypes=&mustHave=&dontShow=&furnishTypes=&keywords='\n",
    "my_url38 = 'https://www.rightmove.co.uk/property-to-rent/find.html?locationIdentifier=REGION%5E4&index=888&propertyTypes=&mustHave=&dontShow=&furnishTypes=&keywords='\n",
    "my_url39 = 'https://www.rightmove.co.uk/property-to-rent/find.html?locationIdentifier=REGION%5E4&index=912&propertyTypes=&mustHave=&dontShow=&furnishTypes=&keywords='\n",
    "my_url40 = 'https://www.rightmove.co.uk/property-to-rent/find.html?locationIdentifier=REGION%5E4&index=936&propertyTypes=&mustHave=&dontShow=&furnishTypes=&keywords='\n",
    "\n",
    "# Opening up connection and grabbing the page\n",
    "\n",
    "uClient1 = uReq(my_url1)\n",
    "uClient2 = uReq(my_url2)\n",
    "uClient3 = uReq(my_url3)\n",
    "uClient4 = uReq(my_url4)\n",
    "uClient5 = uReq(my_url5)\n",
    "uClient6 = uReq(my_url6)\n",
    "uClient7 = uReq(my_url7)\n",
    "uClient8 = uReq(my_url8)\n",
    "uClient9 = uReq(my_url9)\n",
    "uClient10 = uReq(my_url10)\n",
    "uClient11 = uReq(my_url11)\n",
    "uClient12 = uReq(my_url12)\n",
    "uClient13 = uReq(my_url13)\n",
    "uClient14 = uReq(my_url14)\n",
    "uClient15 = uReq(my_url15)\n",
    "uClient16 = uReq(my_url16)\n",
    "uClient17 = uReq(my_url17)\n",
    "uClient18 = uReq(my_url18)\n",
    "uClient19 = uReq(my_url19)\n",
    "uClient20 = uReq(my_url20)\n",
    "uClient21 = uReq(my_url21)\n",
    "uClient22 = uReq(my_url22)\n",
    "uClient23 = uReq(my_url23)\n",
    "uClient24 = uReq(my_url24)\n",
    "uClient25 = uReq(my_url25)\n",
    "uClient26 = uReq(my_url26)\n",
    "uClient27 = uReq(my_url27)\n",
    "uClient28 = uReq(my_url28)\n",
    "uClient29 = uReq(my_url29)\n",
    "uClient30 = uReq(my_url30)\n",
    "uClient31 = uReq(my_url31)\n",
    "uClient32 = uReq(my_url32)\n",
    "uClient33 = uReq(my_url33)\n",
    "uClient34 = uReq(my_url34)\n",
    "uClient35 = uReq(my_url35)\n",
    "uClient36 = uReq(my_url36)\n",
    "uClient37 = uReq(my_url37)\n",
    "uClient38 = uReq(my_url38)\n",
    "uClient39 = uReq(my_url39)\n",
    "uClient40 = uReq(my_url40)\n",
    "\n",
    "# Reading and storing data froom each page\n",
    "\n",
    "page1_html = uClient1.read()\n",
    "page2_html = uClient2.read()\n",
    "page3_html = uClient3.read()\n",
    "page4_html = uClient4.read()\n",
    "page5_html = uClient5.read()\n",
    "page6_html = uClient6.read()\n",
    "page7_html = uClient7.read()\n",
    "page8_html = uClient8.read()\n",
    "page9_html = uClient9.read()\n",
    "page10_html = uClient10.read()\n",
    "page11_html = uClient11.read()\n",
    "page12_html = uClient12.read()\n",
    "page13_html = uClient13.read()\n",
    "page14_html = uClient14.read()\n",
    "page15_html = uClient15.read()\n",
    "page16_html = uClient16.read()\n",
    "page17_html = uClient17.read()\n",
    "page18_html = uClient18.read()\n",
    "page19_html = uClient19.read()\n",
    "page20_html = uClient20.read()\n",
    "page21_html = uClient21.read()\n",
    "page22_html = uClient22.read()\n",
    "page23_html = uClient23.read()\n",
    "page24_html = uClient24.read()\n",
    "page25_html = uClient25.read()\n",
    "page26_html = uClient26.read()\n",
    "page27_html = uClient27.read()\n",
    "page28_html = uClient28.read()\n",
    "page29_html = uClient29.read()\n",
    "page30_html = uClient30.read()\n",
    "page31_html = uClient31.read()\n",
    "page32_html = uClient32.read()\n",
    "page33_html = uClient33.read()\n",
    "page34_html = uClient34.read()\n",
    "page35_html = uClient35.read()\n",
    "page36_html = uClient36.read()\n",
    "page37_html = uClient37.read()\n",
    "page38_html = uClient38.read()\n",
    "page39_html = uClient39.read()\n",
    "page40_html = uClient40.read()\n",
    "\n",
    "# Closing webpage connections \n",
    "\n",
    "uClient1.close()\n",
    "uClient2.close()\n",
    "uClient3.close()\n",
    "uClient4.close()\n",
    "uClient5.close()\n",
    "uClient6.close()\n",
    "uClient7.close()\n",
    "uClient8.close()\n",
    "uClient9.close()\n",
    "uClient10.close()\n",
    "uClient11.close()\n",
    "uClient12.close()\n",
    "uClient13.close()\n",
    "uClient14.close()\n",
    "uClient15.close()\n",
    "uClient16.close()\n",
    "uClient17.close()\n",
    "uClient18.close()\n",
    "uClient19.close()\n",
    "uClient20.close()\n",
    "uClient21.close()\n",
    "uClient22.close()\n",
    "uClient23.close()\n",
    "uClient24.close()\n",
    "uClient25.close()\n",
    "uClient26.close()\n",
    "uClient27.close()\n",
    "uClient28.close()\n",
    "uClient29.close()\n",
    "uClient30.close()\n",
    "uClient31.close() \n",
    "uClient32.close() \n",
    "uClient33.close() \n",
    "uClient34.close() \n",
    "uClient35.close() \n",
    "uClient36.close() \n",
    "uClient37.close() \n",
    "uClient38.close() \n",
    "uClient39.close() \n",
    "uClient40.close() \n",
    "        \n",
    "# Html parsing with Beutifulsoup \n",
    "\n",
    "page1_soup = BeautifulSoup(page1_html, \"html.parser\")\n",
    "page2_soup = BeautifulSoup(page2_html, \"html.parser\")\n",
    "page3_soup = BeautifulSoup(page3_html, \"html.parser\")\n",
    "page4_soup = BeautifulSoup(page4_html, \"html.parser\")\n",
    "page5_soup = BeautifulSoup(page5_html, \"html.parser\")\n",
    "page6_soup = BeautifulSoup(page6_html, \"html.parser\")\n",
    "page7_soup = BeautifulSoup(page7_html, \"html.parser\")\n",
    "page8_soup = BeautifulSoup(page8_html, \"html.parser\")\n",
    "page9_soup = BeautifulSoup(page9_html, \"html.parser\")\n",
    "page10_soup = BeautifulSoup(page10_html, \"html.parser\")\n",
    "page11_soup = BeautifulSoup(page11_html, \"html.parser\")\n",
    "page12_soup = BeautifulSoup(page12_html, \"html.parser\")\n",
    "page13_soup = BeautifulSoup(page13_html, \"html.parser\")\n",
    "page14_soup = BeautifulSoup(page14_html, \"html.parser\")\n",
    "page15_soup = BeautifulSoup(page15_html, \"html.parser\")\n",
    "page16_soup = BeautifulSoup(page16_html, \"html.parser\")\n",
    "page17_soup = BeautifulSoup(page17_html, \"html.parser\")\n",
    "page18_soup = BeautifulSoup(page18_html, \"html.parser\")\n",
    "page19_soup = BeautifulSoup(page19_html, \"html.parser\")\n",
    "page20_soup = BeautifulSoup(page20_html, \"html.parser\")\n",
    "page21_soup = BeautifulSoup(page21_html, \"html.parser\")\n",
    "page22_soup = BeautifulSoup(page22_html, \"html.parser\")\n",
    "page23_soup = BeautifulSoup(page23_html, \"html.parser\")\n",
    "page24_soup = BeautifulSoup(page24_html, \"html.parser\")\n",
    "page25_soup = BeautifulSoup(page25_html, \"html.parser\")\n",
    "page26_soup = BeautifulSoup(page26_html, \"html.parser\")\n",
    "page27_soup = BeautifulSoup(page27_html, \"html.parser\")\n",
    "page28_soup = BeautifulSoup(page28_html, \"html.parser\")\n",
    "page29_soup = BeautifulSoup(page29_html, \"html.parser\")\n",
    "page30_soup = BeautifulSoup(page30_html, \"html.parser\")\n",
    "page31_soup = BeautifulSoup(page31_html, \"html.parser\")\n",
    "page32_soup = BeautifulSoup(page32_html, \"html.parser\")\n",
    "page33_soup = BeautifulSoup(page33_html, \"html.parser\")\n",
    "page34_soup = BeautifulSoup(page34_html, \"html.parser\")\n",
    "page35_soup = BeautifulSoup(page35_html, \"html.parser\")\n",
    "page36_soup = BeautifulSoup(page36_html, \"html.parser\")\n",
    "page37_soup = BeautifulSoup(page37_html, \"html.parser\")\n",
    "page38_soup = BeautifulSoup(page38_html, \"html.parser\")\n",
    "page39_soup = BeautifulSoup(page39_html, \"html.parser\")\n",
    "page40_soup = BeautifulSoup(page40_html, \"html.parser\")\n"
   ]
  },
  {
   "cell_type": "markdown",
   "metadata": {},
   "source": [
    "### Step 2: Cleaning the Data.\n",
    "\n",
    "On the rightmove website the number of bedrooms is always written with an h2 tag as shown below. All h2 values were found using Beutifulsoups' findAll function variable called bedrooms. An example for one page is shown below.\n"
   ]
  },
  {
   "cell_type": "code",
   "execution_count": 128,
   "metadata": {},
   "outputs": [
    {
     "name": "stdout",
     "output_type": "stream",
     "text": [
      "[<h2 class=\"propertyCard-title\" itemprop=\"name\">\n",
      "            2 bedroom apartment        </h2>, <h2 class=\"propertyCard-title\" itemprop=\"name\">\n",
      "            1 bedroom flat        </h2>, <h2 class=\"propertyCard-title\" itemprop=\"name\">\n",
      "            2 bedroom flat        </h2>, <h2 class=\"propertyCard-title\" itemprop=\"name\">\n",
      "            2 bedroom flat        </h2>, <h2 class=\"propertyCard-title\" itemprop=\"name\">\n",
      "            2 bedroom flat        </h2>, <h2 class=\"propertyCard-title\" itemprop=\"name\">\n",
      "            3 bedroom flat        </h2>, <h2 class=\"propertyCard-title\" itemprop=\"name\">\n",
      "            1 bedroom flat        </h2>, <h2 class=\"propertyCard-title\" itemprop=\"name\">\n",
      "            1 bedroom flat        </h2>, <h2 class=\"propertyCard-title\" itemprop=\"name\">\n",
      "            1 bedroom flat        </h2>, <h2 class=\"propertyCard-title\" itemprop=\"name\">\n",
      "            1 bedroom flat        </h2>, <h2 class=\"propertyCard-title\" itemprop=\"name\">\n",
      "            1 bedroom flat        </h2>, <h2 class=\"propertyCard-title\" itemprop=\"name\">\n",
      "            2 bedroom flat        </h2>, <h2 class=\"propertyCard-title\" itemprop=\"name\">\n",
      "            2 bedroom flat        </h2>, <h2 class=\"propertyCard-title\" itemprop=\"name\">\n",
      "            3 bedroom flat        </h2>, <h2 class=\"propertyCard-title\" itemprop=\"name\">\n",
      "            2 bedroom flat        </h2>, <h2 class=\"propertyCard-title\" itemprop=\"name\">\n",
      "            2 bedroom apartment        </h2>, <h2 class=\"propertyCard-title\" itemprop=\"name\">\n",
      "            2 bedroom flat        </h2>, <h2 class=\"propertyCard-title\" itemprop=\"name\">\n",
      "            3 bedroom flat        </h2>, <h2 class=\"propertyCard-title\" itemprop=\"name\">\n",
      "            2 bedroom flat        </h2>, <h2 class=\"propertyCard-title\" itemprop=\"name\">\n",
      "            2 bedroom flat        </h2>, <h2 class=\"propertyCard-title\" itemprop=\"name\">\n",
      "            2 bedroom flat        </h2>, <h2 class=\"propertyCard-title\" itemprop=\"name\">\n",
      "            1 bedroom ground floor flat        </h2>, <h2 class=\"propertyCard-title\" itemprop=\"name\">\n",
      "            1 bedroom flat        </h2>, <h2 class=\"propertyCard-title\" itemprop=\"name\">\n",
      "            1 bedroom apartment        </h2>, <h2 class=\"propertyCard-title\" itemprop=\"name\">\n",
      "            2 bedroom flat        </h2>]\n"
     ]
    }
   ],
   "source": [
    "bedrooms = page1_soup.findAll(\"h2\")\n",
    "print(bedrooms)"
   ]
  },
  {
   "cell_type": "markdown",
   "metadata": {},
   "source": [
    "Each index in bedrooms was then split into arrays of strings at the blank spaces and every number of bedrooms was element 3. These numbers were converted from strings to integers and appended to an empty array to use for analysis. For studio appartments the integer 0 was assigned to the array.  "
   ]
  },
  {
   "cell_type": "code",
   "execution_count": 129,
   "metadata": {},
   "outputs": [
    {
     "name": "stdout",
     "output_type": "stream",
     "text": [
      "[2, 1, 2, 2, 2, 3, 1, 1, 1, 1, 1, 2, 2, 3, 2, 2, 2, 3, 2, 2, 2, 1, 1, 1, 2, 2, 2, 1, 1, 2, 2, 2, 2, 2, 2, 1, 4, 3, 1, 2, 2, 2, 4, 2, 2, 1, 2, 2, 2, 1, 2, 4, 5, 3, 2, 1, 1, 5, 2, 1, 1, 1, 2, 1, 2, 2, 2, 2, 2, 1, 1, 1, 2, 1, 2, 4, 2, 1, 2, 1, 1, 1, 2, 2, 2, 2, 2, 1, 2, 0, 3, 2, 1, 2, 2, 5, 3, 1, 1, 2, 2, 1, 2, 2, 2, 2, 2, 2, 2, 4, 4, 2, 2, 2, 2, 4, 2, 4, 2, 3, 2, 6, 5, 2, 1, 4, 0, 2, 1, 3, 2, 2, 2, 1, 1, 2, 1, 2, 2, 2, 2, 1, 2, 1, 4, 1, 4, 1, 2, 2, 1, 2, 2, 5, 2, 1, 1, 1, 1, 3, 2, 1, 3, 1, 3, 2, 1, 3, 2, 4, 1, 2, 3, 2, 2, 0, 4, 2, 2, 2, 1, 2, 3, 2, 2, 2, 1, 2, 5, 1, 3, 2, 3, 4, 3, 1, 1, 1, 2, 2, 1, 2, 0, 2, 2, 2, 4, 2, 1, 1, 1, 2, 3, 2, 3, 1, 2, 2, 2, 2, 2, 2, 1, 3, 3, 2, 2, 2, 3, 2, 2, 1, 3, 2, 2, 2, 2, 3, 2, 2, 1, 4, 2, 4, 2, 3, 1, 1, 2, 0, 1, 2, 2, 2, 2, 2, 1, 1, 1, 2, 2, 3, 2, 1, 4, 3, 1, 1, 1, 2, 2, 2, 2, 2, 2, 4, 2, 2, 1, 1, 2, 1, 2, 1, 2, 5, 2, 2, 1, 2, 2, 3, 2, 3, 2, 2, 2, 1, 2, 2, 1, 2, 2, 2, 1, 2, 1, 1, 2, 2, 2, 2, 2, 2, 2, 2, 1, 1, 2, 2, 1, 4, 1, 2, 2, 2, 2, 2, 3, 1, 1, 1, 1, 3, 2, 3, 2, 2, 2, 1, 2, 2, 2, 2, 2, 2, 2, 2, 3, 1, 2, 3, 1, 1, 3, 1, 2, 1, 11, 4, 1, 4, 2, 1, 2, 3, 2, 2, 2, 2, 3, 1, 1, 2, 2, 2, 3, 2, 1, 2, 1, 2, 2, 2, 1, 4, 2, 2, 3, 2, 2, 4, 6, 2, 2, 2, 6, 2, 2, 2, 5, 2, 2, 3, 1, 24, 1, 5, 1, 1, 3, 2, 2, 2, 4, 2, 3, 2, 2, 2, 2, 1, 2, 2, 2, 2, 0, 5, 2, 2, 1, 2, 2, 3, 4, 2, 3, 1, 1, 1, 2, 2, 4, 4, 2, 2, 3, 2, 1, 2, 2, 5, 2, 2, 2, 2, 2, 4, 2, 3, 1, 1, 4, 3, 3, 2, 2, 14, 2, 1, 2, 1, 1, 2, 2, 0, 1, 0, 3, 1, 1, 3, 2, 1, 2, 2, 2, 2, 2, 2, 2, 2, 1, 4, 3, 1, 2, 2, 3, 1, 3, 2, 1, 3, 1, 2, 2, 2, 2, 2, 2, 2, 1, 2, 2, 1, 4, 4, 3, 4, 3, 2, 2, 4, 2, 1, 3, 2, 2, 2, 2, 1, 2, 1, 1, 1, 2, 2, 2, 2, 2, 1, 2, 2, 3, 3, 4, 1, 2, 2, 1, 1, 1, 2, 2, 2, 3, 2, 1, 2, 4, 2, 1, 2, 2, 2, 2, 2, 2, 1, 1, 2, 2, 3, 2, 1, 2, 1, 1, 1, 2, 1, 2, 2, 2, 1, 3, 1, 2, 1, 1, 1, 1, 3, 1, 2, 3, 3, 2, 1, 1, 1, 1, 4, 2, 2, 1, 3, 2, 2, 2, 1, 2, 2, 2, 3, 2, 2, 2, 1, 1, 2, 4, 4, 1, 2, 6, 1, 1, 2, 2, 1, 4, 1, 3, 1, 5, 1, 1, 1, 1, 1, 2, 3, 2, 2, 2, 1, 2, 1, 1, 2, 4, 2, 2, 2, 2, 1, 4, 3, 1, 3, 0, 2, 2, 1, 1, 1, 2, 2, 2, 1, 1, 1, 3, 1, 3, 2, 1, 3, 1, 1, 2, 1, 1, 2, 1, 1, 2, 1, 2, 1, 2, 2, 4, 3, 1, 1, 3, 2, 3, 1, 2, 2, 1, 2, 1, 2, 2, 1, 1, 3, 2, 2, 2, 1, 2, 2, 2, 1, 2, 1, 2, 2, 1, 4, 2, 1, 2, 1, 3, 3, 2, 2, 4, 1, 1, 1, 4, 2, 2, 1, 1, 2, 3, 2, 2, 2, 3, 2, 3, 1, 2, 2, 1, 2, 1, 1, 2, 1, 2, 3, 2, 1, 2, 1, 2, 3, 2, 1, 2, 3, 3, 4, 1, 5, 1, 3, 1, 1, 2, 2, 3, 2, 2, 2, 1, 2, 2, 2, 1, 1, 4, 2, 2, 2, 2, 2, 2, 2, 2, 2, 2, 1, 3, 1, 1, 2, 1, 2, 1, 3, 2, 4, 2, 2, 4, 2, 2, 2, 1, 2, 2, 2, 2, 2, 4, 2, 1, 2, 2, 2, 2, 2, 2, 2, 2, 1, 2, 1, 2, 2, 4, 3, 2, 1, 2, 2, 2, 2, 2, 2, 2, 2, 2, 1, 1, 3, 1, 3, 4, 0, 2, 1, 2, 2, 2, 2, 1, 1, 2, 2, 2, 1, 2, 1, 3, 2, 2, 1, 2, 2, 2, 2, 7, 3, 2, 2, 3, 1, 2, 2, 1, 1, 1, 1, 2, 2, 2, 3, 2, 1, 3, 1, 2, 2, 2, 1, 1, 2, 2, 2, 2, 1, 3, 1, 2, 3, 1, 3, 2, 1, 2, 2, 2, 4, 2, 2, 1, 4, 2, 1, 2, 1, 2, 1, 1, 2, 5, 2, 2, 2, 2, 1, 2, 2, 1, 1, 2, 4, 2, 3, 3, 2, 3, 1, 2, 3, 2, 1, 2, 1, 2, 1, 1, 3, 2, 1, 4, 1, 1, 3, 3, 3, 2, 4, 2, 3, 2, 2, 2, 4, 2, 1, 2, 2, 2, 2, 2, 2, 2, 2, 1, 2, 2, 2, 2, 1, 3, 2]\n"
     ]
    }
   ],
   "source": [
    "bedrooms = page1_soup.findAll(\"h2\")+page2_soup.findAll(\"h2\")+page3_soup.findAll(\"h2\")+page4_soup.findAll(\"h2\")+page5_soup.findAll(\"h2\")+page6_soup.findAll(\"h2\")+page7_soup.findAll(\"h2\")+page8_soup.findAll(\"h2\")+page9_soup.findAll(\"h2\")+page10_soup.findAll(\"h2\")+page11_soup.findAll(\"h2\")+page12_soup.findAll(\"h2\")+page13_soup.findAll(\"h2\")+page14_soup.findAll(\"h2\")+page15_soup.findAll(\"h2\")+page16_soup.findAll(\"h2\")+page17_soup.findAll(\"h2\")+page18_soup.findAll(\"h2\")+page19_soup.findAll(\"h2\")+page20_soup.findAll(\"h2\")+page21_soup.findAll(\"h2\")+page22_soup.findAll(\"h2\")+page23_soup.findAll(\"h2\")+page24_soup.findAll(\"h2\")+page25_soup.findAll(\"h2\")+page26_soup.findAll(\"h2\")+page27_soup.findAll(\"h2\")+page28_soup.findAll(\"h2\")+page29_soup.findAll(\"h2\")+page30_soup.findAll(\"h2\")+page31_soup.findAll(\"h2\")+page32_soup.findAll(\"h2\")+page33_soup.findAll(\"h2\")+page34_soup.findAll(\"h2\")+page35_soup.findAll(\"h2\")+page36_soup.findAll(\"h2\")+page37_soup.findAll(\"h2\")+page38_soup.findAll(\"h2\")+page39_soup.findAll(\"h2\")+page40_soup.findAll(\"h2\")\n",
    "bedroom_array = []\n",
    "\n",
    "for i in bedrooms:\n",
    "    i = str(i)\n",
    "    i = i.split()\n",
    "    if i[3] == 'Studio':\n",
    "        bedroom_array.append(0)\n",
    "    else:\n",
    "        try:\n",
    "            bedroom_array.append(int(i[3]))\n",
    "        except:\n",
    "            bedroom_array.append(1)\n",
    "\n",
    "print(bedroom_array)"
   ]
  },
  {
   "cell_type": "markdown",
   "metadata": {},
   "source": [
    "All the prices were next to a class called propertyCard-priceValue. The strings were then split at the spaces to create arrays of string elements. The strings containing the price values were at element 7. Any other character which was not a number was removed from the string and the string was converted to an integer which was appended to an array of prices to be used for analysis. Some of the elements did not provide a price and so were given the value 0 instead."
   ]
  },
  {
   "cell_type": "code",
   "execution_count": 130,
   "metadata": {},
   "outputs": [
    {
     "name": "stdout",
     "output_type": "stream",
     "text": [
      "[600, 350, 450, 700, 750, 765, 550, 495, 325, 550, 400, 450, 600, 800, 600, 895, 500, 1250, 550, 995, 625, 375, 475, 400, 550, 650, 725, 450, 445, 525, 650, 650, 1075, 530, 530, 430, 1100, 1400, 395, 600, 600, 650, 1300, 650, 650, 550, 650, 625, 475, 400, 750, 2200, 2250, 1600, 850, 525, 350, 1300, 495, 450, 425, 450, 600, 450, 695, 450, 550, 520, 595, 470, 475, 500, 600, 325, 850, 2250, 625, 415, 625, 416, 475, 550, 450, 495, 595, 628, 628, 350, 750, 395, 975, 450, 400, 650, 725, 2200, 950, 400, 400, 650, 400, 425, 750, 650, 825, 595, 800, 625, 475, 1200, 1375, 799, 650, 1195, 599, 1700, 575, 895, 650, 850, 565, 390, 420, 550, 475, 1100, 425, 675, 400, 750, 625, 650, 795, 550, 450, 850, 450, 525, 400, 625, 800, 450, 575, 375, 1580, 450, 1900, 500, 850, 545, 425, 775, 700, 1600, 650, 450, 515, 475, 545, 1050, 675, 475, 995, 425, 1200, 575, 475, 900, 425, 1400, 550, 615, 490, 495, 750, 595, 2600, 650, 850, 525, 400, 650, 1200, 600, 600, 650, 375, 1050, 1950, 450, 650, 575, 1295, 995, 950, 800, 425, 575, 675, 625, 400, 875, 375, 650, 650, 600, 1200, 695, 395, 395, 400, 1300, 995, 495, 750, 380, 595, 675, 650, 550, 725, 680, 440, 750, 1400, 650, 800, 600, 1950, 550, 550, 495, 850, 650, 550, 550, 645, 975, 560, 525, 550, 2250, 825, 1600, 795, 1080, 550, 425, 650, 375, 375, 690, 699, 650, 1095, 750, 390, 550, 575, 450, 550, 600, 750, 750, 1300, 850, 425, 425, 450, 700, 525, 800, 465, 600, 650, 1200, 550, 750, 450, 385, 600, 490, 795, 475, 600, 2100, 600, 550, 641, 725, 430, 1050, 550, 750, 650, 500, 1150, 550, 695, 595, 450, 725, 575, 575, 450, 500, 495, 450, 675, 1000, 850, 600, 600, 600, 550, 495, 400, 220, 695, 825, 475, 1500, 630, 628, 550, 750, 545, 625, 775, 375, 400, 475, 445, 750, 600, 900, 750, 575, 700, 475, 700, 675, 900, 575, 650, 595, 600, 550, 750, 475, 595, 800, 450, 350, 750, 450, 600, 445, 2500, 2500, 430, 1440, 600, 450, 525, 825, 640, 580, 795, 700, 1400, 450, 400, 500, 900, 650, 1100, 550, 450, 600, 395, 520, 675, 675, 400, 900, 950, 650, 1000, 900, 613, 1050, 2200, 320, 850, 2448, 2300, 1050, 525, 1500, 1600, 1450, 525, 1200, 415, 160, 500, 2300, 380, 450, 1200, 600, 650, 700, 1600, 675, 750, 675, 450, 675, 750, 415, 595, 675, 740, 600, 375, 2200, 525, 570, 485, 625, 620, 850, 1500, 450, 700, 475, 425, 425, 615, 550, 1250, 295, 750, 680, 1800, 500, 375, 500, 650, 1250, 575, 750, 695, 550, 675, 1450, 450, 1500, 395, 480, 1600, 855, 1200, 700, 715, 3100, 745, 400, 850, 385, 450, 599, 875, 595, 805, 595, 1365, 675, 775, 825, 675, 450, 765, 850, 799, 650, 950, 715, 625, 600, 250, 1600, 850, 525, 750, 500, 750, 400, 1425, 425, 390, 495, 425, 750, 650, 650, 850, 650, 550, 550, 400, 675, 550, 475, 1050, 1050, 930, 2200, 995, 525, 500, 1400, 450, 375, 750, 850, 240, 575, 750, 475, 675, 450, 450, 430, 750, 675, 775, 1100, 675, 400, 850, 625, 1100, 840, 1150, 450, 575, 495, 450, 525, 375, 850, 600, 800, 1200, 699, 395, 670, 2300, 650, 500, 525, 695, 1200, 1200, 650, 595, 450, 530, 700, 700, 1200, 599, 450, 700, 450, 450, 960, 1100, 360, 850, 575, 1250, 450, 1000, 475, 625, 495, 500, 375, 599, 1200, 450, 515, 895, 900, 800, 380, 425, 380, 950, 1600, 575, 450, 400, 995, 750, 775, 500, 375, 695, 750, 725, 1050, 600, 600, 500, 515, 375, 600, 850, 1750, 475, 650, 2950, 475, 450, 625, 515, 450, 825, 400, 1200, 400, 1600, 451, 368, 498, 542, 480, 670, 1100, 450, 795, 725, 400, 550, 370, 500, 725, 1300, 750, 500, 995, 725, 550, 1000, 1200, 525, 1020, 450, 650, 600, 500, 475, 400, 1050, 910, 950, 525, 475, 520, 1500, 550, 1200, 595, 475, 895, 450, 490, 600, 470, 395, 550, 450, 450, 550, 375, 650, 495, 750, 695, 1200, 950, 495, 400, 1050, 500, 1425, 515, 575, 650, 495, 595, 450, 615, 650, 475, 425, 1200, 550, 795, 600, 450, 525, 650, 600, 495, 650, 495, 795, 595, 450, 1300, 575, 495, 775, 525, 1425, 1425, 775, 695, 995, 600, 550, 375, 650, 650, 595, 550, 499, 575, 1200, 625, 725, 675, 1100, 525, 1400, 495, 550, 750, 425, 575, 0, 495, 575, 375, 550, 1425, 775, 525, 510, 390, 725, 895, 650, 400, 600, 1000, 550, 1600, 515, 1600, 450, 1800, 395, 395, 550, 595, 2300, 745, 550, 625, 550, 595, 600, 695, 395, 430, 1200, 600, 650, 1100, 595, 700, 460, 695, 400, 695, 575, 525, 1200, 399, 475, 595, 450, 775, 425, 995, 575, 2100, 599, 595, 1050, 599, 830, 775, 400, 625, 695, 600, 625, 625, 1050, 995, 475, 600, 450, 675, 650, 500, 495, 625, 700, 425, 600, 525, 695, 570, 2250, 1150, 550, 450, 750, 550, 575, 950, 495, 680, 1425, 625, 550, 550, 399, 825, 450, 775, 1800, 375, 850, 375, 995, 695, 695, 695, 475, 425, 695, 895, 0, 425, 635, 475, 795, 675, 500, 450, 575, 575, 599, 575, 250, 1190, 500, 650, 600, 600, 900, 1500, 400, 400, 425, 500, 695, 525, 700, 675, 600, 500, 850, 425, 675, 525, 575, 405, 425, 625, 675, 615, 650, 425, 750, 500, 650, 670, 425, 675, 899, 450, 675, 525, 500, 1450, 625, 575, 360, 1750, 725, 550, 750, 550, 695, 375, 550, 675, 350, 650, 595, 500, 495, 450, 575, 500, 395, 450, 525, 1200, 825, 900, 1150, 625, 1600, 400, 695, 950, 650, 500, 625, 625, 550, 450, 425, 950, 675, 475, 1050, 550, 400, 850, 725, 700, 595, 1100, 525, 840, 590, 525, 430, 1500, 575, 425, 495, 499, 675, 625, 400, 500, 650, 650, 425, 700, 575, 575, 495, 450, 995, 695]\n"
     ]
    }
   ],
   "source": [
    "prices = page1_soup.findAll(\"span\",{\"class\",\":\", \"propertyCard-priceValue\"})+page2_soup.findAll(\"span\",{\"class\",\":\", \"propertyCard-priceValue\"})+page3_soup.findAll(\"span\",{\"class\",\":\", \"propertyCard-priceValue\"})+page4_soup.findAll(\"span\",{\"class\",\":\", \"propertyCard-priceValue\"})+page5_soup.findAll(\"span\",{\"class\",\":\", \"propertyCard-priceValue\"})+page6_soup.findAll(\"span\",{\"class\",\":\", \"propertyCard-priceValue\"})+page7_soup.findAll(\"span\",{\"class\",\":\", \"propertyCard-priceValue\"})+page8_soup.findAll(\"span\",{\"class\",\":\", \"propertyCard-priceValue\"})+page9_soup.findAll(\"span\",{\"class\",\":\", \"propertyCard-priceValue\"})+page10_soup.findAll(\"span\",{\"class\",\":\", \"propertyCard-priceValue\"})+page11_soup.findAll(\"span\",{\"class\",\":\", \"propertyCard-priceValue\"})+page12_soup.findAll(\"span\",{\"class\",\":\", \"propertyCard-priceValue\"})+page13_soup.findAll(\"span\",{\"class\",\":\", \"propertyCard-priceValue\"})+page14_soup.findAll(\"span\",{\"class\",\":\", \"propertyCard-priceValue\"})+page15_soup.findAll(\"span\",{\"class\",\":\", \"propertyCard-priceValue\"})+page16_soup.findAll(\"span\",{\"class\",\":\", \"propertyCard-priceValue\"})+page17_soup.findAll(\"span\",{\"class\",\":\", \"propertyCard-priceValue\"})+page18_soup.findAll(\"span\",{\"class\",\":\", \"propertyCard-priceValue\"})+page19_soup.findAll(\"span\",{\"class\",\":\", \"propertyCard-priceValue\"})+page20_soup.findAll(\"span\",{\"class\",\":\", \"propertyCard-priceValue\"})+page21_soup.findAll(\"span\",{\"class\",\":\", \"propertyCard-priceValue\"})+page22_soup.findAll(\"span\",{\"class\",\":\", \"propertyCard-priceValue\"})+page23_soup.findAll(\"span\",{\"class\",\":\", \"propertyCard-priceValue\"})+page24_soup.findAll(\"span\",{\"class\",\":\", \"propertyCard-priceValue\"})+page25_soup.findAll(\"span\",{\"class\",\":\", \"propertyCard-priceValue\"})+page26_soup.findAll(\"span\",{\"class\",\":\", \"propertyCard-priceValue\"})+page27_soup.findAll(\"span\",{\"class\",\":\", \"propertyCard-priceValue\"})+page28_soup.findAll(\"span\",{\"class\",\":\", \"propertyCard-priceValue\"})+page29_soup.findAll(\"span\",{\"class\",\":\", \"propertyCard-priceValue\"})+page30_soup.findAll(\"span\",{\"class\",\":\", \"propertyCard-priceValue\"})+page31_soup.findAll(\"span\",{\"class\",\":\", \"propertyCard-priceValue\"})+page32_soup.findAll(\"span\",{\"class\",\":\", \"propertyCard-priceValue\"})+page33_soup.findAll(\"span\",{\"class\",\":\", \"propertyCard-priceValue\"})+page34_soup.findAll(\"span\",{\"class\",\":\", \"propertyCard-priceValue\"})+page35_soup.findAll(\"span\",{\"class\",\":\", \"propertyCard-priceValue\"})+page36_soup.findAll(\"span\",{\"class\",\":\", \"propertyCard-priceValue\"})+page37_soup.findAll(\"span\",{\"class\",\":\", \"propertyCard-priceValue\"})+page38_soup.findAll(\"span\",{\"class\",\":\", \"propertyCard-priceValue\"})+page39_soup.findAll(\"span\",{\"class\",\":\", \"propertyCard-priceValue\"})+page40_soup.findAll(\"span\",{\"class\",\":\", \"propertyCard-priceValue\"})\n",
    "price_array = []\n",
    "without_price = 0\n",
    "for i in prices:\n",
    "    i = str(i)\n",
    "    i = i.split()\n",
    "    j = (i[7].split(\"£\"))\n",
    "    try:\n",
    "        price = j[1]\n",
    "        price = price.replace(',','')\n",
    "        price_array.append(int(price))\n",
    "    except:\n",
    "        price_array.append(0)\n",
    "        without_price += 1\n",
    "\n",
    "print(price_array)"
   ]
  },
  {
   "cell_type": "code",
   "execution_count": 131,
   "metadata": {},
   "outputs": [
    {
     "name": "stdout",
     "output_type": "stream",
     "text": [
      "2 without price\n"
     ]
    }
   ],
   "source": [
    "print(str(without_price)+\" without price\")"
   ]
  },
  {
   "cell_type": "markdown",
   "metadata": {},
   "source": [
    "The same method was used to create an array of postcodes. Stings of value 0 were assigned to properties which did not provide a postcode."
   ]
  },
  {
   "cell_type": "code",
   "execution_count": 132,
   "metadata": {},
   "outputs": [
    {
     "name": "stdout",
     "output_type": "stream",
     "text": [
      "['AB16', 'AB24', 'AB16', 'AB25', 'AB24', 'AB11', 'AB24', 'AB10', 'AB11', 'AB25', 'AB24', 'AB25', 'AB24', '0', 'AB25', 'AB15', 'AB11', 'AB24', 'AB24', 'AB11', 'AB11', 'AB24', 'AB10', '0', '0', 'AB10', 'AB24', 'AB25', 'AB25', '0', 'AB24', 'AB10', 'AB15', 'AB11', 'AB11', 'AB11', 'AB12', 'AB10', 'AB11', 'AB16', 'AB10', 'AB10', 'AB12', 'AB24', 'AB24', 'AB21', 'AB11', 'AB23', 'AB24', 'AB15', 'AB10', 'AB15', '0', 'AB15', 'AB15', 'AB10', 'AB11', 'AB10', 'AB21', '0', '0', 'AB10', 'AB24', 'AB10', 'AB11', '0', 'AB25', 'AB25', 'AB25', '0', 'AB24', 'AB24', 'AB24', '0', 'AB11', 'AB15', 'AB24', 'AB10', 'AB15', 'AB24', 'AB11', 'AB25', 'AB24', 'AB10', 'AB25', 'AB12', 'AB12', 'AB24', 'AB10', 'AB10', 'AB10', 'AB24', 'AB25', 'AB11', 'AB24', 'AB12', 'AB15', 'AB25', 'AB10', 'AB10', 'AB11', 'AB11', '0', 'AB11', 'AB15', 'AB10', 'AB11', 'AB25', 'AB10', 'AB12', 'AB11', 'AB25', 'AB10', 'AB15', 'AB10', 'AB15', 'AB15', 'AB22', 'AB24', 'AB11', 'AB24', 'AB24', 'AB24', 'AB10', 'AB10', 'AB12', 'AB25', 'AB25', 'AB25', 'AB10', 'AB24', 'AB11', 'AB24', 'AB11', 'AB11', 'AB24', 'AB10', '0', 'AB25', '0', 'AB15', 'AB11', 'AB10', 'AB11', 'AB24', 'AB25', 'AB10', 'AB25', 'AB25', 'AB25', 'AB11', 'AB24', 'AB24', 'AB10', 'AB25', '0', 'AB10', 'AB\" ', 'AB10', 'AB15', 'AB24', 'AB24', 'AB15', 'AB25', 'AB25', 'AB11', 'AB10', 'AB10', 'AB24', '0', '0', 'AB11', 'AB16', 'AB24', 'AB10', 'AB21', 'AB15', 'AB11', 'AB10', 'AB10', 'AB25', 'AB24', 'AB15', 'AB24', 'AB24', 'AB10', 'AB11', 'AB15', 'AB15', 'AB25', 'AB24', '0', 'AB11', 'AB10', 'AB24', 'AB15', 'AB25', 'AB25', '0', 'AB25', 'AB15', 'AB10', 'AB25', 'AB15', 'AB24', '0', 'AB15', 'AB24', 'AB10', 'AB25', 'AB24', 'AB15', 'AB10', 'AB25', 'AB24', 'AB24', 'AB11', 'AB25', '0', 'AB25', 'AB22', 'AB22', 'AB24', 'AB24', 'AB15', 'AB11', 'AB11', 'AB11', 'AB15', 'AB10', 'AB10', 'AB10', 'AB10', 'AB24', 'AB25', 'AB25', 'AB10', 'AB25', 'AB24', 'AB25', 'AB25', 'AB15', 'AB24', 'AB24', 'AB24', 'AB24', 'AB10', 'AB24', 'AB11', 'AB12', 'AB11', 'AB10', 'AB11', 'AB15', 'AB25', 'AB15', 'AB25', 'AB25', 'AB24', 'AB24', 'AB25', 'AB12', 'AB10', 'AB10', 'AB24', 'AB25', 'AB10', 'AB10', 'AB24', 'AB11', '0', 'AB15', 'AB24', 'AB24', 'AB10', 'AB12', 'AB15', 'AB24', 'AB24', 'AB11', 'AB25', '0', '0', 'AB25', 'AB15', 'AB15', 'AB10', 'AB24', '0', 'AB21', 'AB25', 'AB24', 'AB24', 'AB21', 'AB11', 'AB10', 'AB25', 'AB10', '0', '0', 'AB10', 'AB11', 'AB22', 'AB24', '0', 'AB10', 'AB11', 'AB24', 'AB24', 'AB15', 'AB11', 'AB25', 'AB25', 'AB25', 'AB11', 'AB24', 'AB24', 'AB25', 'AB25', 'AB15', 'AB11', 'AB10', '0', 'AB12', 'AB11', 'AB10', '0', 'AB11', 'AB12', 'AB11', 'AB10', 'AB22', '0', 'AB11', 'AB10', '0', 'AB24', 'AB11', 'AB15', 'AB10', 'AB11', 'AB25', 'AB24', 'AB10', 'AB10', 'AB10', 'AB25', 'AB11', 'AB15', 'AB10', 'AB25', 'AB24', 'AB25', 'AB11', 'AB24', 'AB24', 'AB25', 'AB24', 'AB\" ', 'AB15', 'AB16', 'AB25', 'AB11', 'AB24', '0', 'AB10', 'AB11', 'AB24', '0', 'AB10', 'AB15', 'AB11', 'AB10', 'AB11', 'AB15', 'AB11', 'AB24', 'AB11', 'AB24', 'AB11', 'AB25', 'AB11', 'AB25', 'AB11', 'AB24', 'AB21', '0', 'AB25', 'AB22', 'AB22', 'AB12', 'AB11', 'AB15', 'AB10', 'AB15', '0', 'AB15', 'AB15', 'AB10', 'AB24', 'AB10', 'AB24', 'AB24', 'AB24', 'AB25', 'AB11', 'AB10', 'AB15', 'AB10', 'AB25', 'AB15', 'AB11', '0', 'AB10', 'AB24', 'AB10', 'AB24', 'AB24', 'AB11', 'AB10', 'AB24', 'AB25', 'AB24', 'AB10', 'AB24', 'AB16', '0', 'AB24', 'AB25', 'AB24', 'AB25', 'AB15', 'AB25', 'AB24', 'AB24', 'AB25', 'AB12', 'AB25', 'AB24', 'AB24', 'AB10', 'AB10', 'AB24', 'AB10', 'AB24', 'AB24', 'AB11', 'AB11', 'AB10', 'AB24', 'AB11', 'AB11', 'AB10', 'AB15', 'AB24', 'AB24', 'AB25', 'AB12', 'AB24', 'AB11', '0', 'AB25', 'AB10', 'AB24', 'AB24', 'AB24', 'AB24', 'AB11', 'AB11', 'AB11', 'AB24', 'AB25', 'AB24', 'AB11', 'AB21', 'AB21', 'AB21', 'AB21', 'AB21', 'AB21', 'AB21', 'AB25', '0', 'AB25', 'AB24', 'AB24', 'AB11', 'AB24', 'AB24', 'AB11', 'AB25', 'AB10', 'AB24', 'AB15', 'AB24', 'AB25', 'AB25', 'AB25', 'AB24', 'AB25', 'AB24', 'AB25', 'AB25', 'AB21', 'AB10', 'AB24', 'AB15', 'AB24', 'AB24', 'AB10', 'AB25', 'AB11', 'AB10', 'AB15', 'AB10', 'AB10', 'AB12', 'AB12', 'AB10', '0', 'AB24', 'AB24', 'AB24', 'AB10', 'AB11', 'AB11', 'AB10', 'AB11', 'AB25', 'AB25', 'AB25', 'AB10', 'AB25', 'AB10', 'AB11', 'AB11', 'AB24', 'AB24', 'AB10', 'AB10', 'AB15', 'AB10', 'AB15', 'AB22', 'AB15', 'AB24', 'AB10', 'AB25', 'AB15', '0', 'AB10', 'AB11', 'AB15', 'AB11', 'AB25', 'AB15', 'AB15', 'AB15', 'AB10', 'AB11', 'AB24', '0', 'AB22', 'AB15', '0', 'AB25', 'AB24', 'AB15', 'AB11', 'AB24', 'AB10', 'AB24', 'AB24', 'AB24', 'AB10', 'AB10', 'AB24', 'AB24', 'AB22', 'AB15', 'AB15', 'AB11', 'AB15', '0', 'AB10', 'AB11', '0', 'AB10', 'AB11', 'AB11', 'AB10', 'AB25', 'AB10', 'AB24', 'AB24', 'AB25', 'AB24', 'AB11', 'AB10', 'AB10', 'AB11', 'AB10', '0', 'AB15', 'AB25', 'AB25', '0', '0', '0', 'AB11', '0', 'AB24', 'AB24', 'AB15', 'AB15', 'AB24', 'AB10', 'AB11', 'AB11', 'AB11', 'AB10', 'AB10', 'AB24', 'AB11', 'AB24', 'AB11', 'AB15', 'AB11', 'AB10', 'AB15', 'AB25', 'AB24', 'AB25', 'AB24', 'AB10', 'AB24', 'AB24', 'AB24', 'AB25', 'AB24', 'AB25', 'AB24', 'AB11', 'AB10', '0', 'AB15', 'AB25', 'AB25', 'AB24', 'AB10', 'AB24', 'AB11', 'AB10', 'AB24', 'AB24', 'AB15', 'AB24', 'AB11', 'AB15', 'AB24', 'AB11', 'AB24', 'AB23', 'AB24', 'AB25', 'AB12', '0', 'AB10', 'AB21', 'AB21', 'AB21', 'AB24', 'AB11', 'AB25', 'AB24', 'AB11', 'AB24', 'AB25', '0', 'AB10', 'AB11', 'AB15', 'AB24', 'AB24', 'AB10', 'AB24', 'AB25', 'AB24', 'AB24', 'AB24', 'AB24', 'AB10', 'AB11', 'AB11', 'AB24', 'AB21', 'AB23', 'AB10', 'AB15', 'AB10', 'AB24', 'AB11', 'AB10', 'AB11', 'AB11', 'AB24', 'AB25', 'AB10', 'AB24', 'AB10', 'AB25', 'AB24', 'AB10', 'AB10', 'AB10', 'AB25', 'AB24', '0', 'AB24', 'AB10', 'AB24', 'AB11', 'AB24', 'AB10', 'AB11', 'AB12', 'AB10', 'AB25', 'AB24', 'AB11', 'AB24', 'AB24', 'AB24', 'AB10', 'AB10', 'AB10', 'AB10', 'AB25', 'AB21', 'AB12', 'AB10', 'AB11', 'AB10', 'AB25', 'AB24', 'AB10', 'AB24', 'AB24', 'AB24', 'AB24', 'AB10', 'AB25', 'AB10', '0', '0', 'AB25', 'AB25', 'AB11', 'AB11', 'AB25', 'AB25', 'AB24', 'AB24', 'AB10', 'AB16', 'AB24', 'AB15', 'AB24', 'AB15', 'AB24', 'AB24', 'AB24', '0', 'AB24', 'AB11', 'AB10', 'AB24', 'AB25', 'AB25', '0', 'AB24', 'AB10', 'AB15', 'AB11', 'AB11', 'AB11', 'AB12', 'AB10', 'AB11', 'AB16', 'AB10', 'AB10', 'AB12', 'AB24', 'AB24', 'AB21', 'AB11', 'AB23', 'AB24', 'AB15', 'AB11', 'AB24', 'AB24', 'AB25', 'AB15', 'AB24', 'AB25', 'AB24', '0', 'AB15', 'AB24', 'AB25', '0', 'AB24', 'AB11', 'AB10', 'AB24', 'AB10', 'AB24', 'AB10', 'AB25', 'AB24', 'AB24', 'AB15', 'AB11', 'AB25', 'AB10', 'AB15', 'AB11', 'AB11', 'AB24', 'AB21', 'AB10', 'AB25', 'AB25', 'AB10', 'AB10', 'AB10', 'AB11', 'AB11', 'AB22', 'AB25', 'AB15', 'AB24', 'AB10', 'AB24', 'AB15', 'AB10', 'AB25', 'AB10', 'AB10', 'AB11', 'AB15', 'AB24', 'AB24', 'AB10', '0', 'AB10', 'AB23', 'AB25', 'AB15', 'AB12', 'AB10', 'AB11', 'AB10', 'AB11', 'AB10', 'AB24', 'AB22', 'AB24', 'AB25', 'AB10', 'AB25', 'AB25', 'AB25', 'AB25', 'AB11', '0', 'AB24', 'AB24', 'AB24', 'AB24', 'AB10', 'AB25', 'AB11', 'AB25', 'AB25', 'AB24', 'AB11', '0', 'AB15', 'AB15', 'AB24', 'AB24', 'AB25', 'AB25', '0', 'AB16', 'AB10', 'AB16', 'AB16', 'AB22', '0', 'AB25', 'AB10', 'AB10', 'AB10', 'AB25', 'AB11', 'AB11', 'AB24', 'AB25', 'AB11', 'AB24', 'AB24', 'AB24', 'AB25', 'AB10', 'AB10', '0', 'AB15', 'AB10', 'AB25', 'AB10', 'AB24', 'AB15', 'AB11', 'AB22', 'AB11', 'AB25', 'AB11', 'AB10', 'AB10', 'AB11', 'AB11', 'AB11', '0', '0', 'AB24', 'AB11', 'AB11', '0', 'AB25', '0', 'AB10', 'AB16', '0', 'AB15', 'AB10', 'AB24', 'AB15', 'AB24', 'AB15', 'AB10', 'AB15', 'AB24', 'AB10', 'AB25', 'AB21', 'AB24', 'AB10', 'AB10', 'AB12', 'AB24', 'AB25', 'AB24', 'AB11', 'AB11', 'AB12', 'AB10', 'AB25', 'AB10', 'AB11', 'AB10', 'AB24', 'AB12', 'AB24', 'AB11', 'AB25', 'AB11', 'AB25', 'AB15', '0', 'AB10', 'AB10', 'AB24', '0', 'AB10', 'AB11', 'AB11', 'AB11', 'AB11', 'AB24', 'AB16', 'AB25', 'AB25', 'AB21', 'AB24', 'AB10', '0']\n"
     ]
    }
   ],
   "source": [
    "import re\n",
    "areas = page1_soup.findAll(\"address\",{\"class\",\":\", \"propertyCard-address\"})+page2_soup.findAll(\"address\",{\"class\",\":\", \"propertyCard-address\"})+page3_soup.findAll(\"address\",{\"class\",\":\", \"propertyCard-address\"})+page4_soup.findAll(\"address\",{\"class\",\":\", \"propertyCard-address\"})+page5_soup.findAll(\"address\",{\"class\",\":\", \"propertyCard-address\"})+page6_soup.findAll(\"address\",{\"class\",\":\", \"propertyCard-address\"})+page7_soup.findAll(\"address\",{\"class\",\":\", \"propertyCard-address\"})+page8_soup.findAll(\"address\",{\"class\",\":\", \"propertyCard-address\"})+page9_soup.findAll(\"address\",{\"class\",\":\", \"propertyCard-address\"})+page10_soup.findAll(\"address\",{\"class\",\":\", \"propertyCard-address\"})+page11_soup.findAll(\"address\",{\"class\",\":\", \"propertyCard-address\"})+page12_soup.findAll(\"address\",{\"class\",\":\", \"propertyCard-address\"})+page13_soup.findAll(\"address\",{\"class\",\":\", \"propertyCard-address\"})+page14_soup.findAll(\"address\",{\"class\",\":\", \"propertyCard-address\"})+page15_soup.findAll(\"address\",{\"class\",\":\", \"propertyCard-address\"})+page16_soup.findAll(\"address\",{\"class\",\":\", \"propertyCard-address\"})+page17_soup.findAll(\"address\",{\"class\",\":\", \"propertyCard-address\"})+page18_soup.findAll(\"address\",{\"class\",\":\", \"propertyCard-address\"})+page19_soup.findAll(\"address\",{\"class\",\":\", \"propertyCard-address\"})+page20_soup.findAll(\"address\",{\"class\",\":\", \"propertyCard-address\"})+page21_soup.findAll(\"address\",{\"class\",\":\", \"propertyCard-address\"})+page22_soup.findAll(\"address\",{\"class\",\":\", \"propertyCard-address\"})+page23_soup.findAll(\"address\",{\"class\",\":\", \"propertyCard-address\"})+page24_soup.findAll(\"address\",{\"class\",\":\", \"propertyCard-address\"})+page25_soup.findAll(\"address\",{\"class\",\":\", \"propertyCard-address\"})+page26_soup.findAll(\"address\",{\"class\",\":\", \"propertyCard-address\"})+page27_soup.findAll(\"address\",{\"class\",\":\", \"propertyCard-address\"})+page28_soup.findAll(\"address\",{\"class\",\":\", \"propertyCard-address\"})+page29_soup.findAll(\"address\",{\"class\",\":\", \"propertyCard-address\"})+page30_soup.findAll(\"address\",{\"class\",\":\", \"propertyCard-address\"})+page31_soup.findAll(\"address\",{\"class\",\":\", \"propertyCard-address\"})+page2_soup.findAll(\"address\",{\"class\",\":\", \"propertyCard-address\"})+page33_soup.findAll(\"address\",{\"class\",\":\", \"propertyCard-address\"})+page34_soup.findAll(\"address\",{\"class\",\":\", \"propertyCard-address\"})+page35_soup.findAll(\"address\",{\"class\",\":\", \"propertyCard-address\"})+page36_soup.findAll(\"address\",{\"class\",\":\", \"propertyCard-address\"})+page37_soup.findAll(\"address\",{\"class\",\":\", \"propertyCard-address\"})+page38_soup.findAll(\"address\",{\"class\",\":\", \"propertyCard-address\"})+page39_soup.findAll(\"address\",{\"class\",\":\", \"propertyCard-address\"})+page40_soup.findAll(\"address\",{\"class\",\":\", \"propertyCard-address\"})\n",
    "areas\n",
    "area_array = []\n",
    "which_element = 0\n",
    "without_adress = 0\n",
    "without_postcode = 0\n",
    "for i in areas:\n",
    "    i = str(i)\n",
    "    try:\n",
    "        index = i.index('AB')\n",
    "        area_array.append(i[index:index+4])\n",
    "        \n",
    "    except:\n",
    "        without_postcode += 1\n",
    "        try:\n",
    "            index = i.index('Aberdeen')\n",
    "            area_array.append('0')\n",
    "            #area_array.append(i[index-16:index])\n",
    "            #print(\"look at \" + str(which_element))\n",
    "        except:\n",
    "            area_array.append('0')\n",
    "            without_adress += 1\n",
    "    which_element += 1\n",
    "\n",
    "print(area_array)"
   ]
  },
  {
   "cell_type": "markdown",
   "metadata": {},
   "source": [
    "74 properties were found to have no postcode which is not a significant figure in a dataset of 1000."
   ]
  },
  {
   "cell_type": "code",
   "execution_count": 134,
   "metadata": {},
   "outputs": [
    {
     "name": "stdout",
     "output_type": "stream",
     "text": [
      "74 No Postcode\n"
     ]
    }
   ],
   "source": [
    "print(str(without_postcode)+\" No Postcode\")"
   ]
  },
  {
   "cell_type": "markdown",
   "metadata": {},
   "source": [
    "The amount of elements of all three arrays were checked to ensure that they all match in order to create a dataframe."
   ]
  },
  {
   "cell_type": "code",
   "execution_count": 135,
   "metadata": {},
   "outputs": [
    {
     "name": "stdout",
     "output_type": "stream",
     "text": [
      "1000 1000 1000\n"
     ]
    }
   ],
   "source": [
    "print(len(area_array), len(bedroom_array), len(price_array))"
   ]
  },
  {
   "cell_type": "markdown",
   "metadata": {},
   "source": [
    "A dataframe was created using the arrays for postal area, bedrooms and price."
   ]
  },
  {
   "cell_type": "code",
   "execution_count": 136,
   "metadata": {},
   "outputs": [
    {
     "data": {
      "text/html": [
       "<div>\n",
       "<style scoped>\n",
       "    .dataframe tbody tr th:only-of-type {\n",
       "        vertical-align: middle;\n",
       "    }\n",
       "\n",
       "    .dataframe tbody tr th {\n",
       "        vertical-align: top;\n",
       "    }\n",
       "\n",
       "    .dataframe thead th {\n",
       "        text-align: right;\n",
       "    }\n",
       "</style>\n",
       "<table border=\"1\" class=\"dataframe\">\n",
       "  <thead>\n",
       "    <tr style=\"text-align: right;\">\n",
       "      <th></th>\n",
       "      <th>area</th>\n",
       "      <th>bedrooms</th>\n",
       "      <th>price</th>\n",
       "    </tr>\n",
       "  </thead>\n",
       "  <tbody>\n",
       "    <tr>\n",
       "      <th>0</th>\n",
       "      <td>AB16</td>\n",
       "      <td>2</td>\n",
       "      <td>600</td>\n",
       "    </tr>\n",
       "    <tr>\n",
       "      <th>1</th>\n",
       "      <td>AB24</td>\n",
       "      <td>1</td>\n",
       "      <td>350</td>\n",
       "    </tr>\n",
       "    <tr>\n",
       "      <th>2</th>\n",
       "      <td>AB16</td>\n",
       "      <td>2</td>\n",
       "      <td>450</td>\n",
       "    </tr>\n",
       "    <tr>\n",
       "      <th>3</th>\n",
       "      <td>AB25</td>\n",
       "      <td>2</td>\n",
       "      <td>700</td>\n",
       "    </tr>\n",
       "    <tr>\n",
       "      <th>4</th>\n",
       "      <td>AB24</td>\n",
       "      <td>2</td>\n",
       "      <td>750</td>\n",
       "    </tr>\n",
       "  </tbody>\n",
       "</table>\n",
       "</div>"
      ],
      "text/plain": [
       "   area  bedrooms  price\n",
       "0  AB16         2    600\n",
       "1  AB24         1    350\n",
       "2  AB16         2    450\n",
       "3  AB25         2    700\n",
       "4  AB24         2    750"
      ]
     },
     "execution_count": 136,
     "metadata": {},
     "output_type": "execute_result"
    }
   ],
   "source": [
    "data = {'area':area_array,\n",
    "        'bedrooms':bedroom_array,\n",
    "        'price':price_array}\n",
    "df = pd.DataFrame(data)\n",
    "df.head()"
   ]
  },
  {
   "cell_type": "markdown",
   "metadata": {},
   "source": [
    "The pandas query function was used to find which rows of the data frame contained values of 0 for price and area. These rows were then deleted using the pandas drop function."
   ]
  },
  {
   "cell_type": "code",
   "execution_count": 137,
   "metadata": {
    "scrolled": false
   },
   "outputs": [
    {
     "data": {
      "text/plain": [
       "Int64Index([ 13,  23,  24,  29,  52,  59,  60,  65,  69,  73, 102, 137, 139,\n",
       "            155, 169, 170, 191, 198, 205, 218, 270, 281, 282, 288, 298, 299,\n",
       "            304, 322, 326, 332, 335, 364, 368, 386, 395, 412, 426, 460, 482,\n",
       "            519, 549, 561, 564, 583, 586, 602, 606, 607, 608, 610, 644, 666,\n",
       "            678, 717, 753, 754, 772, 779, 808, 812, 856, 877, 889, 896, 902,\n",
       "            919, 936, 937, 941, 943, 946, 982, 986, 999],\n",
       "           dtype='int64')"
      ]
     },
     "execution_count": 137,
     "metadata": {},
     "output_type": "execute_result"
    }
   ],
   "source": [
    "df.query('price == 0').index\n",
    "df.query('area == \"0\"').index\n"
   ]
  },
  {
   "cell_type": "code",
   "execution_count": 139,
   "metadata": {},
   "outputs": [
    {
     "data": {
      "text/html": [
       "<div>\n",
       "<style scoped>\n",
       "    .dataframe tbody tr th:only-of-type {\n",
       "        vertical-align: middle;\n",
       "    }\n",
       "\n",
       "    .dataframe tbody tr th {\n",
       "        vertical-align: top;\n",
       "    }\n",
       "\n",
       "    .dataframe thead th {\n",
       "        text-align: right;\n",
       "    }\n",
       "</style>\n",
       "<table border=\"1\" class=\"dataframe\">\n",
       "  <thead>\n",
       "    <tr style=\"text-align: right;\">\n",
       "      <th></th>\n",
       "      <th>area</th>\n",
       "      <th>bedrooms</th>\n",
       "      <th>price</th>\n",
       "    </tr>\n",
       "  </thead>\n",
       "  <tbody>\n",
       "  </tbody>\n",
       "</table>\n",
       "</div>"
      ],
      "text/plain": [
       "Empty DataFrame\n",
       "Columns: [area, bedrooms, price]\n",
       "Index: []"
      ]
     },
     "execution_count": 139,
     "metadata": {},
     "output_type": "execute_result"
    }
   ],
   "source": [
    "\n",
    "#df = df.drop([13,  23,  24,  29,  52,  59,  60,  65,  69,  73, 102, 137, 139,\n",
    "          #  155, 169, 170, 191, 198, 205, 218, 270, 281, 282, 288, 298, 299,\n",
    "          #  304, 322, 326, 332, 335, 364, 368, 386, 395, 412, 426, 460, 482,\n",
    "          #  519, 549, 561, 564, 583, 586, 602, 606, 607, 608, 610, 644, 666,\n",
    "          #  678, 717, 753, 754, 772, 779, 808, 812, 856, 877, 889, 896, 902,\n",
    "          #  919, 936, 937, 941, 943, 946, 982, 986, 999])\n",
    "\n",
    "# Check that all elements containing 0 are removed\n",
    "\n",
    "df[df.isnull().any(axis=1)]\n"
   ]
  },
  {
   "cell_type": "code",
   "execution_count": 140,
   "metadata": {
    "scrolled": true
   },
   "outputs": [
    {
     "data": {
      "text/plain": [
       "926"
      ]
     },
     "execution_count": 140,
     "metadata": {},
     "output_type": "execute_result"
    }
   ],
   "source": [
    "len(df)"
   ]
  },
  {
   "cell_type": "markdown",
   "metadata": {},
   "source": [
    "This dataframe was stored in a csv file.\n"
   ]
  },
  {
   "cell_type": "code",
   "execution_count": 141,
   "metadata": {},
   "outputs": [],
   "source": [
    "df.to_csv('Aberdeen_flat_rental_data.csv', index = False)"
   ]
  },
  {
   "cell_type": "markdown",
   "metadata": {},
   "source": [
    "### Step 3: Analysing the Data\n",
    "\n",
    "The postal areas were grouped into classes between 1-3 dependent on the prices of the area taken from the data. Areas belonging to class 1 are the areas where properties are generally cheapest and class 3 are the areas where the properties are most expensive.   "
   ]
  },
  {
   "cell_type": "markdown",
   "metadata": {},
   "source": [
    "A bar chart was created whith matplotlib to compare the amount of properties which are available to rent at each postcode.\n"
   ]
  },
  {
   "cell_type": "code",
   "execution_count": 142,
   "metadata": {},
   "outputs": [
    {
     "data": {
      "text/plain": [
       "Text(0.5, 0, 'Postcode')"
      ]
     },
     "execution_count": 142,
     "metadata": {},
     "output_type": "execute_result"
    },
    {
     "data": {
      "image/png": "[encoded data removed]",
      "text/plain": [
       "<Figure size 936x360 with 1 Axes>"
      ]
     },
     "metadata": {
      "needs_background": "light"
     },
     "output_type": "display_data"
    }
   ],
   "source": [
    "plt.figure(figsize=(13,5))\n",
    "labels, counts = np.unique(df['area'], return_counts=True)\n",
    "plt.bar(labels, counts, align='center')\n",
    "plt.title('Poperties Available for Each Postal Adress')\n",
    "plt.ylabel('Amount of Available Rental Properties')\n",
    "plt.xlabel('Postcode')"
   ]
  },
  {
   "cell_type": "markdown",
   "metadata": {},
   "source": [
    "The most amount of properties are available at AB10, AB11, AB24 and AB25 which seems accurate because AB10 and AB25 is the center of Aberdeen, AB11 is densely populated and AB24 is also close to the center and densely populated. AB24 is also an area popular for providing student accomodation and accomodation for oil rig workers who are not of permanent residence in Aberdeen."
   ]
  },
  {
   "cell_type": "markdown",
   "metadata": {},
   "source": [
    "The mean, max and min prices were calculated for each postal area. A bar chart was created to compare the prices of each area."
   ]
  },
  {
   "cell_type": "code",
   "execution_count": 159,
   "metadata": {},
   "outputs": [
    {
     "data": {
      "text/plain": [
       "Text(0.5, 1.0, 'Min Price')"
      ]
     },
     "execution_count": 159,
     "metadata": {},
     "output_type": "execute_result"
    },
    {
     "data": {
      "image/png": "[encoded data removed]",
      "text/plain": [
       "<Figure size 1440x864 with 3 Axes>"
      ]
     },
     "metadata": {
      "needs_background": "light"
     },
     "output_type": "display_data"
    }
   ],
   "source": [
    "# Store area quieries in variables\n",
    "\n",
    "AB10_df = df.query('area == \"AB10\"')\n",
    "AB11_df = df.query('area == \"AB11\"')\n",
    "AB12_df = df.query('area == \"AB12\"')\n",
    "AB15_df = df.query('area == \"AB15\"')\n",
    "AB16_df = df.query('area == \"AB16\"')\n",
    "AB21_df = df.query('area == \"AB21\"')\n",
    "AB22_df = df.query('area == \"AB22\"')\n",
    "AB23_df = df.query('area == \"AB23\"')\n",
    "AB24_df = df.query('area == \"AB24\"')\n",
    "AB25_df = df.query('area == \"AB25\"')\n",
    "\n",
    "# Work out mean, max, and min prices of all postal areas and store in variables\n",
    "\n",
    "mean_prices_array = [AB10_df.price.mean(),AB11_df.price.mean(),AB12_df.price.mean(),AB15_df.price.mean(),AB16_df.price.mean(),AB21_df.price.mean(),AB22_df.price.mean(),AB23_df.price.mean(),AB24_df.price.mean(),AB25_df.price.mean()]\n",
    "max_prices_array = [AB10_df.price.max(),AB11_df.price.max(),AB12_df.price.max(),AB15_df.price.max(),AB16_df.price.max(),AB21_df.price.max(),AB22_df.price.max(),AB23_df.price.max(),AB24_df.price.max(),AB25_df.price.max()]\n",
    "min_prices_array = [AB10_df.price.min(),AB11_df.price.min(),AB12_df.price.min(),AB15_df.price.min(),AB16_df.price.min(),AB21_df.price.min(),AB22_df.price.min(),AB23_df.price.min(),AB24_df.price.min(),AB25_df.price.min()]\n",
    "\n",
    "# Create array of postcodes for dataframe\n",
    "\n",
    "postcodes = ['AB10','AB11','AB12','AB15','AB16','AB21','AB22','AB23','AB24','AB25']\n",
    "\n",
    "# Create dictionary for dataframe\n",
    "\n",
    "area_prices_data = {'postcode':postcodes,'mean price':mean_prices_array,'max price':max_prices_array,'min price':min_prices_array}\n",
    "area_prices_df = pd.DataFrame(area_prices_data)\n",
    "\n",
    "# Subplot for mean price\n",
    "\n",
    "plt.figure(figsize=(20,12))\n",
    "plt.subplot(2,2,1)\n",
    "plt.bar(area_prices_df['postcode'], area_prices_df['mean price'])\n",
    "plt.ylabel('Mean Price (£)')\n",
    "plt.xlabel('Postcode')\n",
    "plt.title('Mean Price')\n",
    "\n",
    "# Subplot for max price\n",
    "\n",
    "plt.subplot(2,2,2)\n",
    "plt.bar(area_prices_df['postcode'], area_prices_df['max price'])\n",
    "plt.ylabel('Max Price (£)')\n",
    "plt.xlabel('Postcode')\n",
    "plt.title('Max Price')\n",
    "\n",
    "# Subplot for min price\n",
    "\n",
    "plt.subplot(2,2,3)\n",
    "plt.bar(area_prices_df['postcode'], area_prices_df['min price'])\n",
    "plt.ylabel('Min Price (£)')\n",
    "plt.xlabel('Postcode')\n",
    "plt.title('Min Price')"
   ]
  },
  {
   "cell_type": "markdown",
   "metadata": {},
   "source": [
    "According to the data the area with the most expensive property and the least expensive pr operty is AB11. There are clearly some outliers for this area. One type of outlier is the amount of bedrooms for a given property. If this value is really high, the value of the property will also be higher. Another major type of outlier is a flat/house share property as they are not considered one bedroom and will give a false representaion of the property price. \n",
    "\n",
    "The dataframe was checked for all properties with more than 4 bedrooms"
   ]
  },
  {
   "cell_type": "code",
   "execution_count": 144,
   "metadata": {},
   "outputs": [
    {
     "data": {
      "text/html": [
       "<div>\n",
       "<style scoped>\n",
       "    .dataframe tbody tr th:only-of-type {\n",
       "        vertical-align: middle;\n",
       "    }\n",
       "\n",
       "    .dataframe tbody tr th {\n",
       "        vertical-align: top;\n",
       "    }\n",
       "\n",
       "    .dataframe thead th {\n",
       "        text-align: right;\n",
       "    }\n",
       "</style>\n",
       "<table border=\"1\" class=\"dataframe\">\n",
       "  <thead>\n",
       "    <tr style=\"text-align: right;\">\n",
       "      <th></th>\n",
       "      <th>area</th>\n",
       "      <th>bedrooms</th>\n",
       "      <th>price</th>\n",
       "    </tr>\n",
       "  </thead>\n",
       "  <tbody>\n",
       "    <tr>\n",
       "      <th>57</th>\n",
       "      <td>AB10</td>\n",
       "      <td>5</td>\n",
       "      <td>1300</td>\n",
       "    </tr>\n",
       "    <tr>\n",
       "      <th>95</th>\n",
       "      <td>AB12</td>\n",
       "      <td>5</td>\n",
       "      <td>2200</td>\n",
       "    </tr>\n",
       "    <tr>\n",
       "      <th>121</th>\n",
       "      <td>AB24</td>\n",
       "      <td>6</td>\n",
       "      <td>390</td>\n",
       "    </tr>\n",
       "    <tr>\n",
       "      <th>122</th>\n",
       "      <td>AB24</td>\n",
       "      <td>5</td>\n",
       "      <td>420</td>\n",
       "    </tr>\n",
       "    <tr>\n",
       "      <th>153</th>\n",
       "      <td>AB10</td>\n",
       "      <td>5</td>\n",
       "      <td>1600</td>\n",
       "    </tr>\n",
       "    <tr>\n",
       "      <th>188</th>\n",
       "      <td>AB15</td>\n",
       "      <td>5</td>\n",
       "      <td>1950</td>\n",
       "    </tr>\n",
       "    <tr>\n",
       "      <th>285</th>\n",
       "      <td>AB15</td>\n",
       "      <td>5</td>\n",
       "      <td>2100</td>\n",
       "    </tr>\n",
       "    <tr>\n",
       "      <th>358</th>\n",
       "      <td>AB\"</td>\n",
       "      <td>11</td>\n",
       "      <td>2500</td>\n",
       "    </tr>\n",
       "    <tr>\n",
       "      <th>392</th>\n",
       "      <td>AB15</td>\n",
       "      <td>6</td>\n",
       "      <td>2200</td>\n",
       "    </tr>\n",
       "    <tr>\n",
       "      <th>396</th>\n",
       "      <td>AB15</td>\n",
       "      <td>6</td>\n",
       "      <td>2300</td>\n",
       "    </tr>\n",
       "    <tr>\n",
       "      <th>400</th>\n",
       "      <td>AB10</td>\n",
       "      <td>5</td>\n",
       "      <td>1600</td>\n",
       "    </tr>\n",
       "    <tr>\n",
       "      <th>405</th>\n",
       "      <td>AB11</td>\n",
       "      <td>24</td>\n",
       "      <td>160</td>\n",
       "    </tr>\n",
       "    <tr>\n",
       "      <th>407</th>\n",
       "      <td>AB15</td>\n",
       "      <td>5</td>\n",
       "      <td>2300</td>\n",
       "    </tr>\n",
       "    <tr>\n",
       "      <th>427</th>\n",
       "      <td>AB24</td>\n",
       "      <td>5</td>\n",
       "      <td>2200</td>\n",
       "    </tr>\n",
       "    <tr>\n",
       "      <th>451</th>\n",
       "      <td>AB11</td>\n",
       "      <td>5</td>\n",
       "      <td>1250</td>\n",
       "    </tr>\n",
       "    <tr>\n",
       "      <th>467</th>\n",
       "      <td>AB11</td>\n",
       "      <td>14</td>\n",
       "      <td>3100</td>\n",
       "    </tr>\n",
       "    <tr>\n",
       "      <th>626</th>\n",
       "      <td>AB15</td>\n",
       "      <td>6</td>\n",
       "      <td>2950</td>\n",
       "    </tr>\n",
       "    <tr>\n",
       "      <th>636</th>\n",
       "      <td>AB24</td>\n",
       "      <td>5</td>\n",
       "      <td>1600</td>\n",
       "    </tr>\n",
       "    <tr>\n",
       "      <th>775</th>\n",
       "      <td>AB10</td>\n",
       "      <td>5</td>\n",
       "      <td>1600</td>\n",
       "    </tr>\n",
       "    <tr>\n",
       "      <th>884</th>\n",
       "      <td>AB11</td>\n",
       "      <td>7</td>\n",
       "      <td>250</td>\n",
       "    </tr>\n",
       "    <tr>\n",
       "      <th>938</th>\n",
       "      <td>AB24</td>\n",
       "      <td>5</td>\n",
       "      <td>350</td>\n",
       "    </tr>\n",
       "  </tbody>\n",
       "</table>\n",
       "</div>"
      ],
      "text/plain": [
       "     area  bedrooms  price\n",
       "57   AB10         5   1300\n",
       "95   AB12         5   2200\n",
       "121  AB24         6    390\n",
       "122  AB24         5    420\n",
       "153  AB10         5   1600\n",
       "188  AB15         5   1950\n",
       "285  AB15         5   2100\n",
       "358  AB\"         11   2500\n",
       "392  AB15         6   2200\n",
       "396  AB15         6   2300\n",
       "400  AB10         5   1600\n",
       "405  AB11        24    160\n",
       "407  AB15         5   2300\n",
       "427  AB24         5   2200\n",
       "451  AB11         5   1250\n",
       "467  AB11        14   3100\n",
       "626  AB15         6   2950\n",
       "636  AB24         5   1600\n",
       "775  AB10         5   1600\n",
       "884  AB11         7    250\n",
       "938  AB24         5    350"
      ]
     },
     "execution_count": 144,
     "metadata": {},
     "output_type": "execute_result"
    }
   ],
   "source": [
    "df.loc[df['bedrooms'] > 4]\n"
   ]
  },
  {
   "cell_type": "markdown",
   "metadata": {},
   "source": [
    "Properties with 24, 14 and 11 bedrooms were found in the data. These properties are irregular and so could be removed from the dataframe. The properties which are flat/house shares are also obvious from the data given their prices, for example a 6 bedroom house at AB24 for £390/month is unreasonable and could also be removed from the dataframe."
   ]
  },
  {
   "cell_type": "code",
   "execution_count": 235,
   "metadata": {},
   "outputs": [],
   "source": [
    "#df = df.drop([121,122,358,405,467,884,938])\n"
   ]
  },
  {
   "cell_type": "markdown",
   "metadata": {},
   "source": [
    "The normal distribution of the price was plotted which showed a rather skewed distribution. "
   ]
  },
  {
   "cell_type": "code",
   "execution_count": 152,
   "metadata": {},
   "outputs": [
    {
     "data": {
      "text/plain": [
       "<matplotlib.axes._subplots.AxesSubplot at 0x13c11070088>"
      ]
     },
     "execution_count": 152,
     "metadata": {},
     "output_type": "execute_result"
    },
    {
     "data": {
      "image/png": "[encoded data removed]",
      "text/plain": [
       "<Figure size 432x288 with 1 Axes>"
      ]
     },
     "metadata": {
      "needs_background": "light"
     },
     "output_type": "display_data"
    }
   ],
   "source": [
    "import seaborn as sns\n",
    "from scipy.stats import norm\n",
    "\n",
    "sns.distplot(df['price'],fit = norm)"
   ]
  },
  {
   "cell_type": "markdown",
   "metadata": {},
   "source": [
    "All properties with more than 4 bedrooms were also dropped because they were effecting the price distribution and were only found in lower cost areas which represents an inaccurate description of the property value in those areas."
   ]
  },
  {
   "cell_type": "code",
   "execution_count": null,
   "metadata": {},
   "outputs": [],
   "source": [
    "# Dropping all properties with more than 4 bedrooms\n",
    "\n",
    "#df = df.drop([153,188,285,392,396,400,407,427,451,626,636,775])"
   ]
  },
  {
   "cell_type": "markdown",
   "metadata": {},
   "source": [
    "The price data was transformed with the log function to smooth out the distribution."
   ]
  },
  {
   "cell_type": "code",
   "execution_count": 153,
   "metadata": {},
   "outputs": [
    {
     "data": {
      "text/plain": [
       "<matplotlib.axes._subplots.AxesSubplot at 0x13c1114b308>"
      ]
     },
     "execution_count": 153,
     "metadata": {},
     "output_type": "execute_result"
    },
    {
     "data": {
      "image/png": "[encoded data removed]",
      "text/plain": [
       "<Figure size 432x288 with 1 Axes>"
      ]
     },
     "metadata": {
      "needs_background": "light"
     },
     "output_type": "display_data"
    }
   ],
   "source": [
    "price_log = np.log(df['price']+1)\n",
    "sns.distplot(price_log,fit = norm)"
   ]
  },
  {
   "cell_type": "markdown",
   "metadata": {},
   "source": [
    "After removing all outliers, the price distribution was still skewed, although it was good enough to use in a model for house price prediction."
   ]
  },
  {
   "cell_type": "code",
   "execution_count": 154,
   "metadata": {
    "scrolled": true
   },
   "outputs": [
    {
     "data": {
      "text/html": [
       "<div>\n",
       "<style scoped>\n",
       "    .dataframe tbody tr th:only-of-type {\n",
       "        vertical-align: middle;\n",
       "    }\n",
       "\n",
       "    .dataframe tbody tr th {\n",
       "        vertical-align: top;\n",
       "    }\n",
       "\n",
       "    .dataframe thead th {\n",
       "        text-align: right;\n",
       "    }\n",
       "</style>\n",
       "<table border=\"1\" class=\"dataframe\">\n",
       "  <thead>\n",
       "    <tr style=\"text-align: right;\">\n",
       "      <th></th>\n",
       "      <th>bedrooms</th>\n",
       "      <th>price</th>\n",
       "    </tr>\n",
       "  </thead>\n",
       "  <tbody>\n",
       "    <tr>\n",
       "      <th>count</th>\n",
       "      <td>905.000000</td>\n",
       "      <td>905.000000</td>\n",
       "    </tr>\n",
       "    <tr>\n",
       "      <th>mean</th>\n",
       "      <td>1.948066</td>\n",
       "      <td>696.267403</td>\n",
       "    </tr>\n",
       "    <tr>\n",
       "      <th>std</th>\n",
       "      <td>0.845707</td>\n",
       "      <td>327.939905</td>\n",
       "    </tr>\n",
       "    <tr>\n",
       "      <th>min</th>\n",
       "      <td>0.000000</td>\n",
       "      <td>220.000000</td>\n",
       "    </tr>\n",
       "    <tr>\n",
       "      <th>25%</th>\n",
       "      <td>1.000000</td>\n",
       "      <td>495.000000</td>\n",
       "    </tr>\n",
       "    <tr>\n",
       "      <th>50%</th>\n",
       "      <td>2.000000</td>\n",
       "      <td>600.000000</td>\n",
       "    </tr>\n",
       "    <tr>\n",
       "      <th>75%</th>\n",
       "      <td>2.000000</td>\n",
       "      <td>750.000000</td>\n",
       "    </tr>\n",
       "    <tr>\n",
       "      <th>max</th>\n",
       "      <td>5.000000</td>\n",
       "      <td>2600.000000</td>\n",
       "    </tr>\n",
       "  </tbody>\n",
       "</table>\n",
       "</div>"
      ],
      "text/plain": [
       "         bedrooms        price\n",
       "count  905.000000   905.000000\n",
       "mean     1.948066   696.267403\n",
       "std      0.845707   327.939905\n",
       "min      0.000000   220.000000\n",
       "25%      1.000000   495.000000\n",
       "50%      2.000000   600.000000\n",
       "75%      2.000000   750.000000\n",
       "max      5.000000  2600.000000"
      ]
     },
     "execution_count": 154,
     "metadata": {},
     "output_type": "execute_result"
    }
   ],
   "source": [
    "df.describe()"
   ]
  },
  {
   "cell_type": "markdown",
   "metadata": {},
   "source": [
    "### Step 4: Creating Model to Predict Monthly Rental Price.\n",
    "\n",
    "Each postal area was grouped into a category between 1-3 based on its mean, max and min price compared to the mean price of other postal areas. The average price of each postal area for the year from rightmove.co.uk was also used to categorise each area because the data used in this analysis only quantifies the property values for one day in July of 2020."
   ]
  },
  {
   "cell_type": "code",
   "execution_count": 185,
   "metadata": {},
   "outputs": [
    {
     "name": "stdout",
     "output_type": "stream",
     "text": [
      "905\n"
     ]
    }
   ],
   "source": [
    "area_classification = {'AB10':2,'AB11':1,'AB12':2,'AB15':3,'AB16':1,'AB21':2,'AB22':2,'AB23':2,'AB24':1,'AB25':2}\n",
    "area_array_for_model = []\n",
    "area_array_for_model = [area_classification.get(i) for i in df['area']]\n",
    "count = 0\n",
    "    \n",
    "print(len(area_array_for_model))"
   ]
  },
  {
   "cell_type": "markdown",
   "metadata": {},
   "source": [
    "A new dataframe was created with values for area class instead of postcode so a regression model could be built. The new dataframe was stored in a csv file."
   ]
  },
  {
   "cell_type": "code",
   "execution_count": 218,
   "metadata": {},
   "outputs": [],
   "source": [
    "data_for_model = {'area class':area_array_for_model,'bedrooms':df['bedrooms'],'price':df['price']}\n",
    "df_for_model = pd.DataFrame(data_for_model)\n",
    "df_for_model.to_csv('Aberdeen_flat_rental_data_for_model.csv', index = False)\n"
   ]
  },
  {
   "cell_type": "markdown",
   "metadata": {},
   "source": [
    "One of the rows in the csv file was not readable by the regression model and was manually deleted. This new data was then read into the notebook using the pd.read_csv function.  "
   ]
  },
  {
   "cell_type": "code",
   "execution_count": 228,
   "metadata": {},
   "outputs": [],
   "source": [
    "df_for_model = pd.read_csv(\"Aberdeen_flat_rental_data_for_model.csv\") \n"
   ]
  },
  {
   "cell_type": "markdown",
   "metadata": {},
   "source": [
    "A model was then created using the sklearn module."
   ]
  },
  {
   "cell_type": "code",
   "execution_count": 230,
   "metadata": {},
   "outputs": [
    {
     "data": {
      "text/plain": [
       "LinearRegression(copy_X=True, fit_intercept=True, n_jobs=None, normalize=False)"
      ]
     },
     "execution_count": 230,
     "metadata": {},
     "output_type": "execute_result"
    }
   ],
   "source": [
    "from sklearn import linear_model\n",
    "reg = linear_model.LinearRegression()\n",
    "reg.fit(df_for_model[['area class','bedrooms']], df_for_model.price)"
   ]
  },
  {
   "cell_type": "code",
   "execution_count": 222,
   "metadata": {
    "scrolled": true
   },
   "outputs": [
    {
     "data": {
      "text/plain": [
       "(array([ 73.84129215, 290.74147003]), 7.97424277073344)"
      ]
     },
     "execution_count": 222,
     "metadata": {},
     "output_type": "execute_result"
    }
   ],
   "source": [
    "reg.coef_, reg.intercept_"
   ]
  },
  {
   "cell_type": "markdown",
   "metadata": {},
   "source": [
    "The coefficients were then used to predict monthly rental price given area class and number of bedrooms required.\n",
    "\n",
    "Results for a 1-bedroom property in a cheap area, a 2-bedroom property in a cheap area, a 2-bedroom property in a medium price area are shown below."
   ]
  },
  {
   "cell_type": "code",
   "execution_count": 243,
   "metadata": {},
   "outputs": [
    {
     "name": "stdout",
     "output_type": "stream",
     "text": [
      "372.55700495073347 663.2984749807334 737.1397671307335\n"
     ]
    }
   ],
   "source": [
    "Price_prediction_1 = (1*73.84129215)+(1*290.74147003) + 7.97424277073344\n",
    "Price_prediction_2 = (1*73.84129215)+(2*290.74147003) + 7.97424277073344\n",
    "Price_prediction_3 = (2*73.84129215)+(2*290.74147003) + 7.97424277073344\n",
    "\n",
    "print(Price_prediction_1, Price_prediction_2, Price_prediction_3)"
   ]
  },
  {
   "cell_type": "markdown",
   "metadata": {},
   "source": [
    "After comparing the results of this model to Aberdeen rental price data on various websites, this model has proven to be reasonably accurate. "
   ]
  },
  {
   "cell_type": "markdown",
   "metadata": {},
   "source": [
    "## Conclusion"
   ]
  },
  {
   "cell_type": "markdown",
   "metadata": {},
   "source": [
    "Although the model is reasonably accurate at predicting property prices in Aberdeen there are still some outliers which are driving the model. The data shows that there are far more properties available in the cheaper areas than in the more expensive areas. Some of these properties contain four or more bedrooms which will greatly effect the mean price of the area. The data also only represents one day from the rightmove website which is constantly changing and so the model is likely to change everyday. "
   ]
  }
 ],
 "metadata": {
  "kernelspec": {
   "display_name": "Python 3",
   "language": "python",
   "name": "python3"
  },
  "language_info": {
   "codemirror_mode": {
    "name": "ipython",
    "version": 3
   },
   "file_extension": ".py",
   "mimetype": "text/x-python",
   "name": "python",
   "nbconvert_exporter": "python",
   "pygments_lexer": "ipython3",
   "version": "3.7.6"
  }
 },
 "nbformat": 4,
 "nbformat_minor": 4
}
